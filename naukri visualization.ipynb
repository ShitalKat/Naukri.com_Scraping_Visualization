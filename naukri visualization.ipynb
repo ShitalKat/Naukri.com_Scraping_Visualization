{
 "cells": [
  {
   "cell_type": "code",
   "execution_count": 1,
   "metadata": {},
   "outputs": [],
   "source": [
    "import matplotlib.pyplot as plt\n",
    "import pandas\n",
    "import re\n"
   ]
  },
  {
   "cell_type": "code",
   "execution_count": 2,
   "metadata": {},
   "outputs": [
    {
     "data": {
      "text/html": [
       "<div>\n",
       "<style scoped>\n",
       "    .dataframe tbody tr th:only-of-type {\n",
       "        vertical-align: middle;\n",
       "    }\n",
       "\n",
       "    .dataframe tbody tr th {\n",
       "        vertical-align: top;\n",
       "    }\n",
       "\n",
       "    .dataframe thead th {\n",
       "        text-align: right;\n",
       "    }\n",
       "</style>\n",
       "<table border=\"1\" class=\"dataframe\">\n",
       "  <thead>\n",
       "    <tr style=\"text-align: right;\">\n",
       "      <th></th>\n",
       "      <th>Unnamed: 0</th>\n",
       "      <th>Title</th>\n",
       "      <th>Company</th>\n",
       "      <th>Location</th>\n",
       "      <th>Description</th>\n",
       "      <th>Link</th>\n",
       "      <th>KeySkills</th>\n",
       "      <th>Experience</th>\n",
       "      <th>Salary</th>\n",
       "      <th>Industry</th>\n",
       "      <th>Functional Area</th>\n",
       "      <th>Role Category</th>\n",
       "      <th>Role</th>\n",
       "      <th>EmploymentType</th>\n",
       "      <th>UG</th>\n",
       "      <th>PG</th>\n",
       "      <th>Doctorate</th>\n",
       "    </tr>\n",
       "  </thead>\n",
       "  <tbody>\n",
       "    <tr>\n",
       "      <th>0</th>\n",
       "      <td>0</td>\n",
       "      <td>Senior Lead - Artificial Intelligence/machine ...</td>\n",
       "      <td>CenturyLink Technologies India Pvt Ltd</td>\n",
       "      <td>Bengaluru</td>\n",
       "      <td>NaN</td>\n",
       "      <td>https://www.naukri.com/job-listings-Senior-Lea...</td>\n",
       "      <td>Deep Learning, Machine Learning, Data Mining, ...</td>\n",
       "      <td>12-16 yrs</td>\n",
       "      <td>Not Disclosed by Recruiter</td>\n",
       "      <td>IT-Software  /    Software Services</td>\n",
       "      <td>IT Software - Application Programming   ,    ...</td>\n",
       "      <td>Programming &amp; Design</td>\n",
       "      <td>Team Lead/Technical Lead</td>\n",
       "      <td>Permanent Job, Full Time</td>\n",
       "      <td>B.Tech/B.E. - Any Specialization</td>\n",
       "      <td>M.Tech - Any Specialization, MCA - Computers</td>\n",
       "      <td>NaN</td>\n",
       "    </tr>\n",
       "    <tr>\n",
       "      <th>1</th>\n",
       "      <td>1</td>\n",
       "      <td>Machine Learning/nlp Experts (location Chakala...</td>\n",
       "      <td>Taglr Technologies Private Limited</td>\n",
       "      <td>Mumbai, Mumbai Suburbs</td>\n",
       "      <td>- 3-5 yrs of experience with ML tools and libr...</td>\n",
       "      <td>https://www.naukri.com/job-listings-Machine-Le...</td>\n",
       "      <td>Deep Learning, Computer Vision, Image Processi...</td>\n",
       "      <td>4-9 yrs</td>\n",
       "      <td>Not Disclosed by Recruiter</td>\n",
       "      <td>Internet  /    Ecommerce</td>\n",
       "      <td>IT Software - Application Programming   ,    ...</td>\n",
       "      <td>System Design/Implementation/ERP/CRM</td>\n",
       "      <td>Solution Architect / Enterprise Architect</td>\n",
       "      <td>Permanent Job, Full Time</td>\n",
       "      <td>NaN</td>\n",
       "      <td>NaN</td>\n",
       "      <td>NaN</td>\n",
       "    </tr>\n",
       "    <tr>\n",
       "      <th>2</th>\n",
       "      <td>2</td>\n",
       "      <td>Data Scientist - Machine Learning</td>\n",
       "      <td>Volkswagen IT Services India Pvt. Ltd</td>\n",
       "      <td>Pune</td>\n",
       "      <td>Following qualifications and competencies are ...</td>\n",
       "      <td>https://www.naukri.com/job-listings-Data-Scien...</td>\n",
       "      <td>machine learning, natural language processing,...</td>\n",
       "      <td>3-8 yrs</td>\n",
       "      <td>Not Disclosed by Recruiter</td>\n",
       "      <td>IT-Software  /    Software Services</td>\n",
       "      <td>IT Software - Application Programming   ,    ...</td>\n",
       "      <td>Programming &amp; Design</td>\n",
       "      <td>Software Developer</td>\n",
       "      <td>Permanent Job, Full Time</td>\n",
       "      <td>NaN</td>\n",
       "      <td>NaN</td>\n",
       "      <td>NaN</td>\n",
       "    </tr>\n",
       "    <tr>\n",
       "      <th>3</th>\n",
       "      <td>3</td>\n",
       "      <td>Team Lead - Artificial Intelligence/machine Le...</td>\n",
       "      <td>Axcelovate</td>\n",
       "      <td>Bengaluru</td>\n",
       "      <td>- 5-8 years of relevant work experience;- Good...</td>\n",
       "      <td>https://www.naukri.com/job-listings-Team-Lead-...</td>\n",
       "      <td>Machine Learning, NLP, Artificial Intelligence...</td>\n",
       "      <td>5-10 yrs</td>\n",
       "      <td>Not Disclosed by Recruiter</td>\n",
       "      <td>IT-Software  /    Software Services</td>\n",
       "      <td>IT Software - Application Programming   ,    ...</td>\n",
       "      <td>Programming &amp; Design</td>\n",
       "      <td>Team Lead/Technical Lead</td>\n",
       "      <td>Permanent Job, Full Time</td>\n",
       "      <td>Any Graduate - Any Specialization</td>\n",
       "      <td>Any Postgraduate - Any Specialization</td>\n",
       "      <td>Doctorate Not Required</td>\n",
       "    </tr>\n",
       "    <tr>\n",
       "      <th>4</th>\n",
       "      <td>4</td>\n",
       "      <td>Senior Analyst - Spss, R, Machine Learning</td>\n",
       "      <td>Vodafone India Limited</td>\n",
       "      <td>Mumbai, Pune</td>\n",
       "      <td>The primary purpose of this role is to deliver...</td>\n",
       "      <td>https://www.naukri.com/job-listings-Senior-Ana...</td>\n",
       "      <td>NaN</td>\n",
       "      <td>3-8 yrs</td>\n",
       "      <td>NaN</td>\n",
       "      <td>NaN</td>\n",
       "      <td>NaN</td>\n",
       "      <td>NaN</td>\n",
       "      <td>NaN</td>\n",
       "      <td>NaN</td>\n",
       "      <td>NaN</td>\n",
       "      <td>NaN</td>\n",
       "      <td>NaN</td>\n",
       "    </tr>\n",
       "  </tbody>\n",
       "</table>\n",
       "</div>"
      ],
      "text/plain": [
       "   Unnamed: 0                                              Title  \\\n",
       "0           0  Senior Lead - Artificial Intelligence/machine ...   \n",
       "1           1  Machine Learning/nlp Experts (location Chakala...   \n",
       "2           2                  Data Scientist - Machine Learning   \n",
       "3           3  Team Lead - Artificial Intelligence/machine Le...   \n",
       "4           4         Senior Analyst - Spss, R, Machine Learning   \n",
       "\n",
       "                                  Company                Location  \\\n",
       "0  CenturyLink Technologies India Pvt Ltd               Bengaluru   \n",
       "1      Taglr Technologies Private Limited  Mumbai, Mumbai Suburbs   \n",
       "2   Volkswagen IT Services India Pvt. Ltd                    Pune   \n",
       "3                              Axcelovate               Bengaluru   \n",
       "4                  Vodafone India Limited            Mumbai, Pune   \n",
       "\n",
       "                                         Description  \\\n",
       "0                                                NaN   \n",
       "1  - 3-5 yrs of experience with ML tools and libr...   \n",
       "2  Following qualifications and competencies are ...   \n",
       "3  - 5-8 years of relevant work experience;- Good...   \n",
       "4  The primary purpose of this role is to deliver...   \n",
       "\n",
       "                                                Link  \\\n",
       "0  https://www.naukri.com/job-listings-Senior-Lea...   \n",
       "1  https://www.naukri.com/job-listings-Machine-Le...   \n",
       "2  https://www.naukri.com/job-listings-Data-Scien...   \n",
       "3  https://www.naukri.com/job-listings-Team-Lead-...   \n",
       "4  https://www.naukri.com/job-listings-Senior-Ana...   \n",
       "\n",
       "                                           KeySkills Experience  \\\n",
       "0  Deep Learning, Machine Learning, Data Mining, ...  12-16 yrs   \n",
       "1  Deep Learning, Computer Vision, Image Processi...    4-9 yrs   \n",
       "2  machine learning, natural language processing,...    3-8 yrs   \n",
       "3  Machine Learning, NLP, Artificial Intelligence...   5-10 yrs   \n",
       "4                                                NaN    3-8 yrs   \n",
       "\n",
       "                           Salary                               Industry  \\\n",
       "0    Not Disclosed by Recruiter     IT-Software  /    Software Services    \n",
       "1    Not Disclosed by Recruiter                Internet  /    Ecommerce    \n",
       "2    Not Disclosed by Recruiter     IT-Software  /    Software Services    \n",
       "3    Not Disclosed by Recruiter     IT-Software  /    Software Services    \n",
       "4                             NaN                                    NaN   \n",
       "\n",
       "                                     Functional Area  \\\n",
       "0   IT Software - Application Programming   ,    ...   \n",
       "1   IT Software - Application Programming   ,    ...   \n",
       "2   IT Software - Application Programming   ,    ...   \n",
       "3   IT Software - Application Programming   ,    ...   \n",
       "4                                                NaN   \n",
       "\n",
       "                          Role Category  \\\n",
       "0                  Programming & Design   \n",
       "1  System Design/Implementation/ERP/CRM   \n",
       "2                  Programming & Design   \n",
       "3                  Programming & Design   \n",
       "4                                   NaN   \n",
       "\n",
       "                                        Role                   EmploymentType  \\\n",
       "0                   Team Lead/Technical Lead     Permanent Job, Full Time       \n",
       "1  Solution Architect / Enterprise Architect     Permanent Job, Full Time       \n",
       "2                         Software Developer     Permanent Job, Full Time       \n",
       "3                   Team Lead/Technical Lead     Permanent Job, Full Time       \n",
       "4                                        NaN                              NaN   \n",
       "\n",
       "                                  UG  \\\n",
       "0   B.Tech/B.E. - Any Specialization   \n",
       "1                                NaN   \n",
       "2                                NaN   \n",
       "3  Any Graduate - Any Specialization   \n",
       "4                                NaN   \n",
       "\n",
       "                                             PG               Doctorate  \n",
       "0  M.Tech - Any Specialization, MCA - Computers                     NaN  \n",
       "1                                           NaN                     NaN  \n",
       "2                                           NaN                     NaN  \n",
       "3         Any Postgraduate - Any Specialization  Doctorate Not Required  \n",
       "4                                           NaN                     NaN  "
      ]
     },
     "execution_count": 2,
     "metadata": {},
     "output_type": "execute_result"
    }
   ],
   "source": [
    "dataset=pandas.read_csv('naukri4000.csv')\n",
    "dataset.head()"
   ]
  },
  {
   "cell_type": "markdown",
   "metadata": {},
   "source": [
    "### Machine learning jobs by companies"
   ]
  },
  {
   "cell_type": "code",
   "execution_count": 3,
   "metadata": {},
   "outputs": [
    {
     "data": {
      "text/plain": [
       "Text(0,0.5,'No of jobs')"
      ]
     },
     "execution_count": 3,
     "metadata": {},
     "output_type": "execute_result"
    },
    {
     "data": {
      "image/png": "[encoded data removed]",
      "text/plain": [
       "<matplotlib.figure.Figure at 0x10c32eda0>"
      ]
     },
     "metadata": {},
     "output_type": "display_data"
    }
   ],
   "source": [
    "ax = dataset['Company'].value_counts().head(10).plot(kind='bar',\n",
    "                                    figsize=(10,5),\n",
    "                                    title=\"Machine learning jobs by companies\")\n",
    "ax.set_xlabel(\"Companies\")\n",
    "ax.set_ylabel(\"No of jobs\")\n"
   ]
  },
  {
   "cell_type": "markdown",
   "metadata": {},
   "source": [
    "### Machine learning jobs by companies"
   ]
  },
  {
   "cell_type": "code",
   "execution_count": 4,
   "metadata": {},
   "outputs": [
    {
     "data": {
      "image/png": "[encoded data removed]",
      "text/plain": [
       "<matplotlib.figure.Figure at 0x10ba22400>"
      ]
     },
     "metadata": {},
     "output_type": "display_data"
    }
   ],
   "source": [
    "locationRow=dataset['Location']\n",
    "locDict=dict()\n",
    "for row in locationRow:\n",
    "    locList=row.split(',')\n",
    "    for loc in locList: \n",
    "        loc=re.sub(\"([\\(\\[]).*?([\\)\\]])\", \"\", loc.strip())\n",
    "        if loc not in locDict:\n",
    "            locDict[loc]=1\n",
    "        else:\n",
    "            locDict[loc]=locDict[loc]+1\n",
    "\n",
    "df=pandas.DataFrame([locDict.keys(),locDict.values()],index=['Location','Count']).T\n",
    "df=df.sort_values('Count',ascending=0)\n",
    "\n",
    "\n",
    "yvalues=df['Count'].head(10)\n",
    "xvalues=df['Location'].head(10)\n",
    "\n",
    "\n",
    "\n",
    "plt.barh(xvalues,yvalues)\n",
    "plt.title('Machine Learning Jobs by Companies')\n",
    "\n",
    "for x,y in zip(xvalues,yvalues):\n",
    "    plt.text(y,x,str(y))\n"
   ]
  },
  {
   "cell_type": "markdown",
   "metadata": {},
   "source": [
    "### Machine Learning In demand skill-set"
   ]
  },
  {
   "cell_type": "code",
   "execution_count": 5,
   "metadata": {},
   "outputs": [
    {
     "data": {
      "image/png": "[encoded data removed]",
      "text/plain": [
       "<matplotlib.figure.Figure at 0x107cb4748>"
      ]
     },
     "metadata": {},
     "output_type": "display_data"
    }
   ],
   "source": [
    "KeySkillsDict=dict()\n",
    "\n",
    "for row in dataset['KeySkills']:\n",
    "    ks=(str(row).split(','))\n",
    "    for skill in ks:\n",
    "        if skill not in KeySkillsDict:\n",
    "            KeySkillsDict[skill]=1\n",
    "        else:\n",
    "            KeySkillsDict[skill]=KeySkillsDict[skill]+1\n",
    "\n",
    "df=pandas.DataFrame([KeySkillsDict.keys(),KeySkillsDict.values()],index=['Skills','Count']).T\n",
    "df=df.sort_values('Count',ascending=0)\n",
    "\n",
    "\n",
    "yvalues=df['Count'].head(10)\n",
    "xvalues=df['Skills'].head(10)\n",
    "\n",
    "\n",
    "\n",
    "plt.barh(xvalues,yvalues)\n",
    "plt.title('Machine Learning Jobs by KeySkills')\n",
    "\n",
    "for x,y in zip(xvalues,yvalues):\n",
    "    plt.text(y,x,str(y))"
   ]
  }
 ],
 "metadata": {
  "kernelspec": {
   "display_name": "Python 3",
   "language": "python",
   "name": "python3"
  },
  "language_info": {
   "codemirror_mode": {
    "name": "ipython",
    "version": 3
   },
   "file_extension": ".py",
   "mimetype": "text/x-python",
   "name": "python",
   "nbconvert_exporter": "python",
   "pygments_lexer": "ipython3",
   "version": "3.6.4"
  }
 },
 "nbformat": 4,
 "nbformat_minor": 2
}
